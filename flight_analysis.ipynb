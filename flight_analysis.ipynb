{
 "cells": [
  {
   "metadata": {},
   "cell_type": "markdown",
   "source": [
    "# Flight Data Processor\n",
    "\n",
    "## Task Description\n",
    "\n",
    "You are given a list of flight data in JSON format. Each flight entry consists of several details. Your goal is to implement a `FlightDataProcessor` class with advanced features that include handling data transformations and deriving insights from the data.\n",
    "\n",
    "## Attributes\n",
    "\n",
    "- `flights`: A list of dictionaries, where each dictionary represents a flight with the following keys:\n",
    "  - `flight_number` (string)\n",
    "  - `departure_time` (string in \"YYYY-MM-DD HH:MM\" format)\n",
    "  - `arrival_time` (string in \"YYYY-MM-DD HH:MM\" format)\n",
    "  - `duration_minutes` (integer)\n",
    "  - `status` (enum, e.g. \"ON_TIME\", \"DELAYED\", \"CANCELLED\")\n",
    "\n",
    "## Methods\n",
    "\n",
    "- `add_flight(data: dict) -> None`: Adds a new flight to the list, ensuring no duplicates (by flight number).\n",
    "\n",
    "- `remove_flight(flight_number: str) -> None`: Removes a flight based on the flight number.\n",
    "\n",
    "- `flights_by_status(status: str) -> List[dict]`: Returns all flights with a given status.\n",
    "\n",
    "- `get_longest_flight() -> dict`: Returns the flight with the longest duration in minutes.\n",
    "\n",
    "## Requirements\n",
    "\n",
    "- Implement the class with clean coding practices.\n",
    "- Use Python's type hinting feature across all methods and method arguments.\n",
    "\n",
    "## Bonus Challenge\n",
    "\n",
    "- Implement a method, `update_flight_status(flight_number: str, new_status: str) -> None`, that updates the status of a flight and ensure it reflects in the overall data.\n",
    "\n",
    "## Example Usage\n",
    "\n",
    "```python\n",
    "# Json Data\n",
    "flight_data = [\n",
    "    {\"flight_number\": \"AZ001\", \"departure_time\": \"2025-02-19 15:30\", \"arrival_time\": \"2025-02-20 03:45\", \"duration_minutes\": 735, \"status\": \"ON_TIME\"},\n",
    "    {\"flight_number\": \"AZ002\", \"departure_time\": \"2025-02-21 11:00\", \"arrival_time\": \"2025-02-21 16:00\", \"duration_minutes\": 300, \"status\": \"DELAYED\"},\n",
    "]\n",
    "\n",
    "# Initialize the processor\n",
    "flight_data_processor = FlightDataProcessor(flight_data)\n",
    "\n",
    "# Add a new flight\n",
    "flight_data_processor.add_flight({\"flight_number\": \"AZ003\", \"departure_time\": \"2025-02-22 09:00\", \"arrival_time\": \"2025-02-22 12:00\", \"duration_minutes\": 180, \"status\": \"ON_TIME\"})\n",
    "\n",
    "# Remove a flight\n",
    "flight_data_processor.remove_flight(\"AZ002\")\n",
    "\n",
    "# Get flights by status\n",
    "on_time_flights = flight_data_processor.flights_by_status(\"ON_TIME\")\n",
    "\n",
    "# Get the longest flight\n",
    "longest_flight = flight_data_processor.get_longest_flight()\n",
    "\n",
    "# Update flight status\n",
    "flight_data_processor.update_flight_status(\"AZ001\", \"DELAYED\")"
   ],
   "id": "3e6afdab596d71f8"
  },
  {
   "cell_type": "code",
   "id": "initial_id",
   "metadata": {
    "collapsed": true,
    "ExecuteTime": {
     "end_time": "2025-03-11T17:17:01.853982Z",
     "start_time": "2025-03-11T17:17:01.838104Z"
    }
   },
   "source": [
    "# Json Data\n",
    "flight_data = [\n",
    "    {\"flight_number\": \"AZ001\", \"departure_time\": \"2025-02-19 15:30\", \"arrival_time\": \"2025-02-20 03:45\", \"status\": \"ON_TIME\"},\n",
    "    {\"flight_number\": \"AZ002\", \"departure_time\": \"2025-02-21 11:00\", \"arrival_time\": \"2025-02-21 16:00\", \"status\": \"DELAYED\"},\n",
    "]"
   ],
   "outputs": [],
   "execution_count": 57
  },
  {
   "metadata": {
    "ExecuteTime": {
     "end_time": "2025-03-11T17:29:11.108375Z",
     "start_time": "2025-03-11T17:29:11.071945Z"
    }
   },
   "cell_type": "code",
   "source": [
    "import datetime\n",
    "from enum import Enum\n",
    "\n",
    "class FlightStatus(Enum):\n",
    "    ON_TIME = \"ON_TIME\"\n",
    "    DELAYED = \"DELAYED\"\n",
    "    CANCELLED = \"CANCELLED\"\n",
    "    \n",
    "class FlightDataProcessor:\n",
    "    def __init__(self, flights: list):\n",
    "        self.flights = []\n",
    "        self.data_cleaner(flights)\n",
    "        \n",
    "    def data_cleaner(self, flights):\n",
    "        for i in flights:\n",
    "            if isinstance(i['departure_time'], str):\n",
    "                i['departure_time'] = datetime.datetime.strptime(i['departure_time'], \"%Y-%m-%d %H:%M\")\n",
    "            if isinstance(i['arrival_time'], str):\n",
    "                i['arrival_time'] = datetime.datetime.strptime(i['arrival_time'], \"%Y-%m-%d %H:%M\")\n",
    "            if isinstance(i['status'], str):\n",
    "                i['status'] = FlightStatus(i['status'])\n",
    "            duration_minutes = (i['arrival_time'] - i['departure_time']).total_seconds() / 60\n",
    "            i['duration_minutes'] = duration_minutes\n",
    "            self.flights.append(i)\n",
    "        \n",
    "    def add_flight(self, data: dict) -> None:\n",
    "        for i in self.flights:\n",
    "            if i['flight_number'] == data['flight_number']:\n",
    "                return\n",
    "            else:\n",
    "                self.data_cleaner([data])\n",
    "        \n",
    "        \n",
    "        self.flights.append(data)\n",
    "        \n",
    "    def remove_flight(self, flight_number):\n",
    "        for i in self.flights:\n",
    "            if i['flight_number'] == flight_number:\n",
    "                print(f\"Removing flight {flight_number}\")\n",
    "                self.flights.remove(i)\n",
    "                return\n",
    "        print(f\"Flight {flight_number} not found\")\n",
    "        \n",
    "    def flights_by_status(self, status):\n",
    "        return [i for i in self.flights if i['status'] == status]\n",
    "    \n",
    "    def update_flight_status(self, flight_number, new_status):\n",
    "        for flight in self.flights:\n",
    "            if flight['flight_number'] == flight_number:\n",
    "                flight['status'] = FlightStatus(new_status)\n",
    "                return\n",
    "        print(f\"Flight {flight_number} not found\")\n",
    "        \n",
    "    def get_longest_flight(self):\n",
    "        return max(self.flights, key=lambda x: x['duration_minutes'])\n",
    "        \n",
    "        \n",
    "flight_data = [\n",
    "    {\"flight_number\": \"AZ001\", \"departure_time\": \"2025-02-19 15:30\", \"arrival_time\": \"2025-02-20 03:45\", \"status\": \"ON_TIME\"},\n",
    "    {\"flight_number\": \"AZ002\", \"departure_time\": \"2025-02-21 11:00\", \"arrival_time\": \"2025-02-21 16:00\", \"status\": \"DELAYED\"},\n",
    "]\n",
    "flight_data_processor = FlightDataProcessor(flight_data)"
   ],
   "id": "1fa51548802b84c1",
   "outputs": [],
   "execution_count": 73
  },
  {
   "metadata": {
    "ExecuteTime": {
     "end_time": "2025-03-11T17:29:14.712571Z",
     "start_time": "2025-03-11T17:29:14.703303Z"
    }
   },
   "cell_type": "code",
   "source": [
    "# Status\n",
    "on_time_flights = flight_data_processor.flights_by_status(FlightStatus.ON_TIME)\n",
    "print(on_time_flights)"
   ],
   "id": "71f8125210a69772",
   "outputs": [
    {
     "name": "stdout",
     "output_type": "stream",
     "text": [
      "[{'flight_number': 'AZ001', 'departure_time': datetime.datetime(2025, 2, 19, 15, 30), 'arrival_time': datetime.datetime(2025, 2, 20, 3, 45), 'status': <FlightStatus.ON_TIME: 'ON_TIME'>, 'duration_minutes': 735.0}]\n"
     ]
    }
   ],
   "execution_count": 74
  },
  {
   "metadata": {
    "ExecuteTime": {
     "end_time": "2025-03-11T17:29:17.507895Z",
     "start_time": "2025-03-11T17:29:17.495068Z"
    }
   },
   "cell_type": "code",
   "source": "flight_data_processor.__dict__",
   "id": "b4a64d8b996d6c3",
   "outputs": [
    {
     "data": {
      "text/plain": [
       "{'flights': [{'flight_number': 'AZ001',\n",
       "   'departure_time': datetime.datetime(2025, 2, 19, 15, 30),\n",
       "   'arrival_time': datetime.datetime(2025, 2, 20, 3, 45),\n",
       "   'status': <FlightStatus.ON_TIME: 'ON_TIME'>,\n",
       "   'duration_minutes': 735.0},\n",
       "  {'flight_number': 'AZ002',\n",
       "   'departure_time': datetime.datetime(2025, 2, 21, 11, 0),\n",
       "   'arrival_time': datetime.datetime(2025, 2, 21, 16, 0),\n",
       "   'status': <FlightStatus.DELAYED: 'DELAYED'>,\n",
       "   'duration_minutes': 300.0}]}"
      ]
     },
     "execution_count": 75,
     "metadata": {},
     "output_type": "execute_result"
    }
   ],
   "execution_count": 75
  },
  {
   "metadata": {
    "ExecuteTime": {
     "end_time": "2025-03-11T15:11:52.895153Z",
     "start_time": "2025-03-11T15:11:52.890152Z"
    }
   },
   "cell_type": "code",
   "source": [
    "for i in flight_data_processor.__dict__['flights']:\n",
    "    print(i)"
   ],
   "id": "51c1856ad9f3c154",
   "outputs": [
    {
     "name": "stdout",
     "output_type": "stream",
     "text": [
      "{'flight_number': 'AZ001', 'departure_time': datetime.datetime(2025, 2, 19, 15, 30), 'arrival_time': datetime.datetime(2025, 2, 20, 3, 45), 'status': <FlightStatus.ON_TIME: 'ON_TIME'>, 'duration_minutes': 735.0}\n",
      "{'flight_number': 'AZ002', 'departure_time': datetime.datetime(2025, 2, 21, 11, 0), 'arrival_time': datetime.datetime(2025, 2, 21, 16, 0), 'status': <FlightStatus.DELAYED: 'DELAYED'>, 'duration_minutes': 300.0}\n"
     ]
    }
   ],
   "execution_count": 40
  },
  {
   "metadata": {
    "ExecuteTime": {
     "end_time": "2025-03-11T15:12:08.967957Z",
     "start_time": "2025-03-11T15:12:08.962545Z"
    }
   },
   "cell_type": "code",
   "source": "flight_data_processor.update_status(\"AZ001\", \"DELAYED\")",
   "id": "b55018e166342373",
   "outputs": [],
   "execution_count": 41
  },
  {
   "metadata": {
    "ExecuteTime": {
     "end_time": "2025-03-11T15:12:42.242903Z",
     "start_time": "2025-03-11T15:12:42.237042Z"
    }
   },
   "cell_type": "code",
   "source": [
    "for i in flight_data_processor.__dict__['flights']:\n",
    "    print(i)"
   ],
   "id": "fd6ddeac9c868990",
   "outputs": [
    {
     "name": "stdout",
     "output_type": "stream",
     "text": [
      "{'flight_number': 'AZ001', 'departure_time': datetime.datetime(2025, 2, 19, 15, 30), 'arrival_time': datetime.datetime(2025, 2, 20, 3, 45), 'status': <FlightStatus.ON_TIME: 'ON_TIME'>, 'duration_minutes': 735.0}\n",
      "{'flight_number': 'AZ002', 'departure_time': datetime.datetime(2025, 2, 21, 11, 0), 'arrival_time': datetime.datetime(2025, 2, 21, 16, 0), 'status': <FlightStatus.DELAYED: 'DELAYED'>, 'duration_minutes': 300.0}\n"
     ]
    }
   ],
   "execution_count": 44
  },
  {
   "metadata": {
    "ExecuteTime": {
     "end_time": "2025-03-11T15:12:37.055557Z",
     "start_time": "2025-03-11T15:12:37.051634Z"
    }
   },
   "cell_type": "code",
   "source": [
    "# Revert back the status\n",
    "flight_data_processor.update_status(\"AZ001\", \"ON_TIME\")"
   ],
   "id": "ed21113467b00094",
   "outputs": [],
   "execution_count": 43
  },
  {
   "metadata": {
    "ExecuteTime": {
     "end_time": "2025-03-11T15:07:45.213258Z",
     "start_time": "2025-03-11T15:07:45.207388Z"
    }
   },
   "cell_type": "code",
   "source": "flight_data_processor.__dict__",
   "id": "18d7b900996f70af",
   "outputs": [
    {
     "data": {
      "text/plain": [
       "{'flights': [{'flight_number': 'AZ001',\n",
       "   'departure_time': datetime.datetime(2025, 2, 19, 15, 30),\n",
       "   'arrival_time': datetime.datetime(2025, 2, 20, 3, 45),\n",
       "   'status': <FlightStatus.ON_TIME: 'ON_TIME'>,\n",
       "   'duration_minutes': 735.0},\n",
       "  {'flight_number': 'AZ002',\n",
       "   'departure_time': datetime.datetime(2025, 2, 21, 11, 0),\n",
       "   'arrival_time': datetime.datetime(2025, 2, 21, 16, 0),\n",
       "   'status': <FlightStatus.DELAYED: 'DELAYED'>,\n",
       "   'duration_minutes': 300.0}]}"
      ]
     },
     "execution_count": 34,
     "metadata": {},
     "output_type": "execute_result"
    }
   ],
   "execution_count": 34
  },
  {
   "metadata": {
    "ExecuteTime": {
     "end_time": "2025-03-11T15:08:14.566529Z",
     "start_time": "2025-03-11T15:08:14.559151Z"
    }
   },
   "cell_type": "code",
   "source": [
    "# Add a new flight\n",
    "flight_data_processor.add_flight({\"flight_number\": \"AZ003\", \"departure_time\": \"2025-02-22 09:00\", \"arrival_time\": \"2025-02-22 12:00\", \"status\": \"ON_TIME\"})"
   ],
   "id": "81ea1eaf3333c331",
   "outputs": [],
   "execution_count": 35
  },
  {
   "metadata": {
    "ExecuteTime": {
     "end_time": "2025-03-11T15:08:23.194393Z",
     "start_time": "2025-03-11T15:08:23.185406Z"
    }
   },
   "cell_type": "code",
   "source": "flight_data_processor.__dict__",
   "id": "54299879865d3b1a",
   "outputs": [
    {
     "data": {
      "text/plain": [
       "{'flights': [{'flight_number': 'AZ001',\n",
       "   'departure_time': datetime.datetime(2025, 2, 19, 15, 30),\n",
       "   'arrival_time': datetime.datetime(2025, 2, 20, 3, 45),\n",
       "   'status': <FlightStatus.ON_TIME: 'ON_TIME'>,\n",
       "   'duration_minutes': 735.0},\n",
       "  {'flight_number': 'AZ002',\n",
       "   'departure_time': datetime.datetime(2025, 2, 21, 11, 0),\n",
       "   'arrival_time': datetime.datetime(2025, 2, 21, 16, 0),\n",
       "   'status': <FlightStatus.DELAYED: 'DELAYED'>,\n",
       "   'duration_minutes': 300.0},\n",
       "  {'flight_number': 'AZ003',\n",
       "   'departure_time': '2025-02-22 09:00',\n",
       "   'arrival_time': '2025-02-22 12:00',\n",
       "   'status': <FlightStatus.ON_TIME: 'ON_TIME'>}]}"
      ]
     },
     "execution_count": 36,
     "metadata": {},
     "output_type": "execute_result"
    }
   ],
   "execution_count": 36
  },
  {
   "metadata": {
    "ExecuteTime": {
     "end_time": "2025-03-11T15:09:56.326406Z",
     "start_time": "2025-03-11T15:09:56.318407Z"
    }
   },
   "cell_type": "code",
   "source": [
    "# Remove a flight\n",
    "flight_data_processor.remove_flight(\"AZ002\")"
   ],
   "id": "f2f41f636e78417d",
   "outputs": [
    {
     "name": "stdout",
     "output_type": "stream",
     "text": [
      "Removing flight AZ002\n"
     ]
    }
   ],
   "execution_count": 37
  },
  {
   "metadata": {
    "ExecuteTime": {
     "end_time": "2025-03-11T15:10:01.855539Z",
     "start_time": "2025-03-11T15:10:01.840501Z"
    }
   },
   "cell_type": "code",
   "source": "flight_data_processor.__dict__",
   "id": "7bfaa46b7bb446f2",
   "outputs": [
    {
     "data": {
      "text/plain": [
       "{'flights': [{'flight_number': 'AZ001',\n",
       "   'departure_time': datetime.datetime(2025, 2, 19, 15, 30),\n",
       "   'arrival_time': datetime.datetime(2025, 2, 20, 3, 45),\n",
       "   'status': <FlightStatus.ON_TIME: 'ON_TIME'>,\n",
       "   'duration_minutes': 735.0},\n",
       "  {'flight_number': 'AZ003',\n",
       "   'departure_time': '2025-02-22 09:00',\n",
       "   'arrival_time': '2025-02-22 12:00',\n",
       "   'status': <FlightStatus.ON_TIME: 'ON_TIME'>}]}"
      ]
     },
     "execution_count": 38,
     "metadata": {},
     "output_type": "execute_result"
    }
   ],
   "execution_count": 38
  },
  {
   "metadata": {
    "ExecuteTime": {
     "end_time": "2025-03-11T15:07:35.088426Z",
     "start_time": "2025-03-11T15:07:35.084290Z"
    }
   },
   "cell_type": "code",
   "source": [
    "# Get flights by status\n",
    "on_time_flights = flight_data_processor.flights_by_status(FlightStatus.ON_TIME)\n",
    "print(on_time_flights)"
   ],
   "id": "3fb2071a61cf4cde",
   "outputs": [
    {
     "name": "stdout",
     "output_type": "stream",
     "text": [
      "[{'flight_number': 'AZ001', 'departure_time': datetime.datetime(2025, 2, 19, 15, 30), 'arrival_time': datetime.datetime(2025, 2, 20, 3, 45), 'status': <FlightStatus.ON_TIME: 'ON_TIME'>, 'duration_minutes': 735.0}]\n"
     ]
    }
   ],
   "execution_count": 32
  },
  {
   "metadata": {
    "ExecuteTime": {
     "end_time": "2025-03-11T15:05:12.495721Z",
     "start_time": "2025-03-11T15:05:12.488416Z"
    }
   },
   "cell_type": "code",
   "source": "flight_data_processor.get_longest_flight()",
   "id": "ed987fa7f29eab49",
   "outputs": [
    {
     "data": {
      "text/plain": [
       "{'flight_number': 'AZ001',\n",
       " 'departure_time': datetime.datetime(2025, 2, 19, 15, 30),\n",
       " 'arrival_time': datetime.datetime(2025, 2, 20, 3, 45),\n",
       " 'status': <FlightStatus.ON_TIME: 'ON_TIME'>,\n",
       " 'duration_minutes': 735.0}"
      ]
     },
     "execution_count": 31,
     "metadata": {},
     "output_type": "execute_result"
    }
   ],
   "execution_count": 31
  },
  {
   "metadata": {
    "ExecuteTime": {
     "end_time": "2025-03-11T15:21:07.162529Z",
     "start_time": "2025-03-11T15:21:07.149526Z"
    }
   },
   "cell_type": "code",
   "source": [
    "#get the longest flight\n",
    "flight_data_processor.get_longest_flight()"
   ],
   "id": "ec64243bb9b12691",
   "outputs": [
    {
     "data": {
      "text/plain": [
       "{'flight_number': 'AZ001',\n",
       " 'departure_time': datetime.datetime(2025, 2, 19, 15, 30),\n",
       " 'arrival_time': datetime.datetime(2025, 2, 20, 3, 45),\n",
       " 'status': <FlightStatus.ON_TIME: 'ON_TIME'>,\n",
       " 'duration_minutes': 735.0}"
      ]
     },
     "execution_count": 46,
     "metadata": {},
     "output_type": "execute_result"
    }
   ],
   "execution_count": 46
  },
  {
   "metadata": {
    "ExecuteTime": {
     "end_time": "2025-03-11T17:04:32.508262Z",
     "start_time": "2025-03-11T17:04:32.471758Z"
    }
   },
   "cell_type": "code",
   "source": "import json",
   "id": "2667269e404d09bf",
   "outputs": [],
   "execution_count": 47
  },
  {
   "metadata": {},
   "cell_type": "markdown",
   "source": "### Convert the data to json",
   "id": "ad42e60ce18b1a2b"
  },
  {
   "metadata": {
    "ExecuteTime": {
     "end_time": "2025-03-11T17:08:53.971752Z",
     "start_time": "2025-03-11T17:08:53.961331Z"
    }
   },
   "cell_type": "code",
   "source": [
    "flight_data = [\n",
    "    {\"flight_number\": \"AZ001\", \"departure_time\": \"2025-02-19 15:30\", \"arrival_time\": \"2025-02-20 03:45\", \"status\": \"ON_TIME\"},\n",
    "    {\"flight_number\": \"AZ002\", \"departure_time\": \"2025-02-21 11:00\", \"arrival_time\": \"2025-02-21 16:00\", \"status\": \"DELAYED\"},\n",
    "]\n",
    "\n",
    "# Save the data to a json file\n",
    "with open(\"flight_data.json\", \"w\") as file:\n",
    "    json.dump(flight_data, file)"
   ],
   "id": "c2f1c870ecb6aff7",
   "outputs": [],
   "execution_count": 49
  },
  {
   "metadata": {
    "ExecuteTime": {
     "end_time": "2025-03-11T17:29:36.773630Z",
     "start_time": "2025-03-11T17:29:36.761616Z"
    }
   },
   "cell_type": "code",
   "source": [
    "json_data = json.load(open(\"flight_data.json\"))\n",
    "print(json_data)"
   ],
   "id": "8287f36e8577eb5c",
   "outputs": [
    {
     "name": "stdout",
     "output_type": "stream",
     "text": [
      "[{'flight_number': 'AZ001', 'departure_time': '2025-02-19 15:30', 'arrival_time': '2025-02-20 03:45', 'status': 'ON_TIME'}, {'flight_number': 'AZ002', 'departure_time': '2025-02-21 11:00', 'arrival_time': '2025-02-21 16:00', 'status': 'DELAYED'}]\n"
     ]
    }
   ],
   "execution_count": 76
  },
  {
   "metadata": {
    "ExecuteTime": {
     "end_time": "2025-03-11T17:29:39.147696Z",
     "start_time": "2025-03-11T17:29:39.143696Z"
    }
   },
   "cell_type": "code",
   "source": "flight_data_processor = FlightDataProcessor(json_data)",
   "id": "27a9013272a13c2",
   "outputs": [],
   "execution_count": 77
  },
  {
   "metadata": {
    "ExecuteTime": {
     "end_time": "2025-03-11T17:23:12.767639Z",
     "start_time": "2025-03-11T17:23:12.758640Z"
    }
   },
   "cell_type": "code",
   "source": "flight_data_processor.__dict__",
   "id": "b4912362d73ac26f",
   "outputs": [
    {
     "data": {
      "text/plain": [
       "{'flights': [{'flight_number': 'AZ001',\n",
       "   'departure_time': datetime.datetime(2025, 2, 19, 15, 30),\n",
       "   'arrival_time': datetime.datetime(2025, 2, 20, 3, 45),\n",
       "   'status': <FlightStatus.ON_TIME: 'ON_TIME'>,\n",
       "   'duration_minutes': 735.0},\n",
       "  {'flight_number': 'AZ002',\n",
       "   'departure_time': datetime.datetime(2025, 2, 21, 11, 0),\n",
       "   'arrival_time': datetime.datetime(2025, 2, 21, 16, 0),\n",
       "   'status': <FlightStatus.DELAYED: 'DELAYED'>,\n",
       "   'duration_minutes': 300.0}]}"
      ]
     },
     "execution_count": 69,
     "metadata": {},
     "output_type": "execute_result"
    }
   ],
   "execution_count": 69
  },
  {
   "metadata": {
    "ExecuteTime": {
     "end_time": "2025-03-11T17:29:44.902208Z",
     "start_time": "2025-03-11T17:29:44.895204Z"
    }
   },
   "cell_type": "code",
   "source": "flight_data_processor.get_longest_flight()",
   "id": "9484938047c0a65c",
   "outputs": [
    {
     "data": {
      "text/plain": [
       "{'flight_number': 'AZ001',\n",
       " 'departure_time': datetime.datetime(2025, 2, 19, 15, 30),\n",
       " 'arrival_time': datetime.datetime(2025, 2, 20, 3, 45),\n",
       " 'status': <FlightStatus.ON_TIME: 'ON_TIME'>,\n",
       " 'duration_minutes': 735.0}"
      ]
     },
     "execution_count": 78,
     "metadata": {},
     "output_type": "execute_result"
    }
   ],
   "execution_count": 78
  },
  {
   "metadata": {
    "ExecuteTime": {
     "end_time": "2025-03-11T17:29:52.395881Z",
     "start_time": "2025-03-11T17:29:52.391823Z"
    }
   },
   "cell_type": "code",
   "source": "flight_data_processor.add_flight({\"flight_number\": \"AZ003\", \"departure_time\": \"2025-02-22 09:00\", \"arrival_time\": \"2025-02-22 12:00\", \"status\": \"ON_TIME\"})",
   "id": "89d212ff27406554",
   "outputs": [],
   "execution_count": 79
  },
  {
   "metadata": {
    "ExecuteTime": {
     "end_time": "2025-03-11T17:29:54.056435Z",
     "start_time": "2025-03-11T17:29:54.049436Z"
    }
   },
   "cell_type": "code",
   "source": "flight_data_processor.__dict__",
   "id": "c5b2b67be94acc70",
   "outputs": [
    {
     "data": {
      "text/plain": [
       "{'flights': [{'flight_number': 'AZ001',\n",
       "   'departure_time': datetime.datetime(2025, 2, 19, 15, 30),\n",
       "   'arrival_time': datetime.datetime(2025, 2, 20, 3, 45),\n",
       "   'status': <FlightStatus.ON_TIME: 'ON_TIME'>,\n",
       "   'duration_minutes': 735.0},\n",
       "  {'flight_number': 'AZ002',\n",
       "   'departure_time': datetime.datetime(2025, 2, 21, 11, 0),\n",
       "   'arrival_time': datetime.datetime(2025, 2, 21, 16, 0),\n",
       "   'status': <FlightStatus.DELAYED: 'DELAYED'>,\n",
       "   'duration_minutes': 300.0},\n",
       "  {'flight_number': 'AZ003',\n",
       "   'departure_time': datetime.datetime(2025, 2, 22, 9, 0),\n",
       "   'arrival_time': datetime.datetime(2025, 2, 22, 12, 0),\n",
       "   'status': <FlightStatus.ON_TIME: 'ON_TIME'>,\n",
       "   'duration_minutes': 180.0},\n",
       "  {'flight_number': 'AZ003',\n",
       "   'departure_time': datetime.datetime(2025, 2, 22, 9, 0),\n",
       "   'arrival_time': datetime.datetime(2025, 2, 22, 12, 0),\n",
       "   'status': <FlightStatus.ON_TIME: 'ON_TIME'>,\n",
       "   'duration_minutes': 180.0}]}"
      ]
     },
     "execution_count": 80,
     "metadata": {},
     "output_type": "execute_result"
    }
   ],
   "execution_count": 80
  },
  {
   "metadata": {
    "ExecuteTime": {
     "end_time": "2025-03-11T17:29:58.929898Z",
     "start_time": "2025-03-11T17:29:58.924895Z"
    }
   },
   "cell_type": "code",
   "source": "flight_data_processor.get_longest_flight()",
   "id": "bc75760030632b75",
   "outputs": [
    {
     "data": {
      "text/plain": [
       "{'flight_number': 'AZ001',\n",
       " 'departure_time': datetime.datetime(2025, 2, 19, 15, 30),\n",
       " 'arrival_time': datetime.datetime(2025, 2, 20, 3, 45),\n",
       " 'status': <FlightStatus.ON_TIME: 'ON_TIME'>,\n",
       " 'duration_minutes': 735.0}"
      ]
     },
     "execution_count": 81,
     "metadata": {},
     "output_type": "execute_result"
    }
   ],
   "execution_count": 81
  },
  {
   "metadata": {},
   "cell_type": "markdown",
   "source": "### Fixes",
   "id": "14ae40caeb52dcf"
  },
  {
   "metadata": {
    "ExecuteTime": {
     "end_time": "2025-03-11T17:28:25.981818Z",
     "start_time": "2025-03-11T17:28:25.970955Z"
    }
   },
   "cell_type": "code",
   "source": [
    "a = {\"flight_number\": \"AZ003\", \"departure_time\": \"2025-02-22 09:00\", \"arrival_time\": \"2025-02-22 12:00\", \"status\": \"ON_TIME\"}\n",
    "\n",
    "for i in [a]:\n",
    "    print(i)"
   ],
   "id": "5380076c116e171d",
   "outputs": [
    {
     "name": "stdout",
     "output_type": "stream",
     "text": [
      "{'flight_number': 'AZ003', 'departure_time': '2025-02-22 09:00', 'arrival_time': '2025-02-22 12:00', 'status': 'ON_TIME'}\n"
     ]
    }
   ],
   "execution_count": 72
  }
 ],
 "metadata": {
  "kernelspec": {
   "display_name": "Python 3",
   "language": "python",
   "name": "python3"
  },
  "language_info": {
   "codemirror_mode": {
    "name": "ipython",
    "version": 2
   },
   "file_extension": ".py",
   "mimetype": "text/x-python",
   "name": "python",
   "nbconvert_exporter": "python",
   "pygments_lexer": "ipython2",
   "version": "2.7.6"
  }
 },
 "nbformat": 4,
 "nbformat_minor": 5
}
